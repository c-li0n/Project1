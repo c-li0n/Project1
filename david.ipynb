{
 "cells": [
  {
   "cell_type": "code",
   "execution_count": 2,
   "metadata": {},
   "outputs": [],
   "source": [
    "# Import the Pandas library\n",
    "import pandas as pd\n",
    "import numpy as np\n",
    "import matplotlib.pyplot as plt"
   ]
  },
  {
   "cell_type": "code",
   "execution_count": 3,
   "metadata": {},
   "outputs": [],
   "source": [
    "# Create a reference the CSV file desired\n",
    "#fbi_path = \"Resources/FBI_UCR_V3.csv\"\n",
    "\n",
    "csv_path = \"data/ArrestByCounty-PopByCounty.csv\"\n",
    "\n",
    "# Read the CSV into a Pandas DataFrame\n",
    "#fbi_df = pd.read_csv(fbi_path)\n",
    "\n",
    "csv_df = pd.read_csv(csv_path)\n",
    "\n",
    "# Print the first five rows of data to the screen\n",
    "#fbi_df.head()\n",
    "\n",
    "#teller  El Paso"
   ]
  },
  {
   "cell_type": "code",
   "execution_count": 4,
   "metadata": {},
   "outputs": [
    {
     "data": {
      "text/html": [
       "<div>\n",
       "<style scoped>\n",
       "    .dataframe tbody tr th:only-of-type {\n",
       "        vertical-align: middle;\n",
       "    }\n",
       "\n",
       "    .dataframe tbody tr th {\n",
       "        vertical-align: top;\n",
       "    }\n",
       "\n",
       "    .dataframe thead th {\n",
       "        text-align: right;\n",
       "    }\n",
       "</style>\n",
       "<table border=\"1\" class=\"dataframe\">\n",
       "  <thead>\n",
       "    <tr style=\"text-align: right;\">\n",
       "      <th></th>\n",
       "      <th>0</th>\n",
       "    </tr>\n",
       "  </thead>\n",
       "  <tbody>\n",
       "    <tr>\n",
       "      <th>County</th>\n",
       "      <td>El PasoTellerEl PasoTeller</td>\n",
       "    </tr>\n",
       "    <tr>\n",
       "      <th>Year</th>\n",
       "      <td>8064</td>\n",
       "    </tr>\n",
       "    <tr>\n",
       "      <th>Crime</th>\n",
       "      <td>Drug ViolationsDrug ViolationsDrug ViolationsD...</td>\n",
       "    </tr>\n",
       "    <tr>\n",
       "      <th>Arrests</th>\n",
       "      <td>1320</td>\n",
       "    </tr>\n",
       "    <tr>\n",
       "      <th>Age Group</th>\n",
       "      <td>JuvenileJuvenileAdultAdult</td>\n",
       "    </tr>\n",
       "    <tr>\n",
       "      <th>Which</th>\n",
       "      <td>DrugDrugDrugDrug</td>\n",
       "    </tr>\n",
       "    <tr>\n",
       "      <th>Year group</th>\n",
       "      <td>2015-20192015-20192015-20192015-2019</td>\n",
       "    </tr>\n",
       "    <tr>\n",
       "      <th>Rate</th>\n",
       "      <td>26.5246.0820.5523.66</td>\n",
       "    </tr>\n",
       "  </tbody>\n",
       "</table>\n",
       "</div>"
      ],
      "text/plain": [
       "                                                            0\n",
       "County                             El PasoTellerEl PasoTeller\n",
       "Year                                                     8064\n",
       "Crime       Drug ViolationsDrug ViolationsDrug ViolationsD...\n",
       "Arrests                                                  1320\n",
       "Age Group                          JuvenileJuvenileAdultAdult\n",
       "Which                                        DrugDrugDrugDrug\n",
       "Year group               2015-20192015-20192015-20192015-2019\n",
       "Rate                                     26.5246.0820.5523.66"
      ]
     },
     "execution_count": 4,
     "metadata": {},
     "output_type": "execute_result"
    }
   ],
   "source": [
    "drug_combin = pd.DataFrame(csv_df[((csv_df[\"County\"]==\"El Paso\") | (csv_df[\"County\"]==\"Teller\")) & (csv_df[\"Year\"]==2016) & (csv_df[\"Which\"]==\"Drug\")].sum())\n",
    "drug_combin "
   ]
  },
  {
   "cell_type": "code",
   "execution_count": 5,
   "metadata": {},
   "outputs": [
    {
     "data": {
      "text/plain": [
       "County                          TellerTeller\n",
       "Year                                    4032\n",
       "Crime         Drug ViolationsDrug Violations\n",
       "Arrests                                   56\n",
       "Age Group                      JuvenileAdult\n",
       "Which                               DrugDrug\n",
       "Year group                2015-20192015-2019\n",
       "Rate                              46.0823.66\n",
       "dtype: object"
      ]
     },
     "execution_count": 5,
     "metadata": {},
     "output_type": "execute_result"
    }
   ],
   "source": [
    "csv_df[(csv_df[\"County\"]==\"Teller\") & (csv_df[\"Year\"]==2016) & (csv_df[\"Which\"]==\"Drug\")].sum()"
   ]
  },
  {
   "cell_type": "code",
   "execution_count": 6,
   "metadata": {},
   "outputs": [
    {
     "data": {
      "text/html": [
       "<div>\n",
       "<style scoped>\n",
       "    .dataframe tbody tr th:only-of-type {\n",
       "        vertical-align: middle;\n",
       "    }\n",
       "\n",
       "    .dataframe tbody tr th {\n",
       "        vertical-align: top;\n",
       "    }\n",
       "\n",
       "    .dataframe thead th {\n",
       "        text-align: right;\n",
       "    }\n",
       "</style>\n",
       "<table border=\"1\" class=\"dataframe\">\n",
       "  <thead>\n",
       "    <tr style=\"text-align: right;\">\n",
       "      <th></th>\n",
       "      <th>County</th>\n",
       "      <th>Year</th>\n",
       "      <th>Crime</th>\n",
       "      <th>Arrests</th>\n",
       "      <th>Age Group</th>\n",
       "      <th>Which</th>\n",
       "      <th>Year group</th>\n",
       "      <th>Rate</th>\n",
       "    </tr>\n",
       "  </thead>\n",
       "  <tbody>\n",
       "    <tr>\n",
       "      <th>27265</th>\n",
       "      <td>El Paso</td>\n",
       "      <td>2016</td>\n",
       "      <td>Drug Violations</td>\n",
       "      <td>209</td>\n",
       "      <td>Juvenile</td>\n",
       "      <td>Drug</td>\n",
       "      <td>2015-2019</td>\n",
       "      <td>26.52</td>\n",
       "    </tr>\n",
       "    <tr>\n",
       "      <th>27823</th>\n",
       "      <td>El Paso</td>\n",
       "      <td>2016</td>\n",
       "      <td>Drug Violations</td>\n",
       "      <td>1055</td>\n",
       "      <td>Adult</td>\n",
       "      <td>Drug</td>\n",
       "      <td>2015-2019</td>\n",
       "      <td>20.55</td>\n",
       "    </tr>\n",
       "  </tbody>\n",
       "</table>\n",
       "</div>"
      ],
      "text/plain": [
       "        County  Year            Crime  Arrests Age Group Which Year group  \\\n",
       "27265  El Paso  2016  Drug Violations      209  Juvenile  Drug  2015-2019   \n",
       "27823  El Paso  2016  Drug Violations     1055     Adult  Drug  2015-2019   \n",
       "\n",
       "        Rate  \n",
       "27265  26.52  \n",
       "27823  20.55  "
      ]
     },
     "execution_count": 6,
     "metadata": {},
     "output_type": "execute_result"
    }
   ],
   "source": [
    "csv_df[(csv_df[\"County\"]==\"El Paso\") & (csv_df[\"Year\"]==2016) & (csv_df[\"Which\"]==\"Drug\")].head()\n"
   ]
  },
  {
   "cell_type": "code",
   "execution_count": 7,
   "metadata": {},
   "outputs": [],
   "source": [
    "reduced_df = csv_df[[\"County\",\"Year\",\"Crime\",\"Arrests\",\"Which\",\"Year group\"]]"
   ]
  },
  {
   "cell_type": "code",
   "execution_count": 8,
   "metadata": {},
   "outputs": [
    {
     "data": {
      "text/html": [
       "<div>\n",
       "<style scoped>\n",
       "    .dataframe tbody tr th:only-of-type {\n",
       "        vertical-align: middle;\n",
       "    }\n",
       "\n",
       "    .dataframe tbody tr th {\n",
       "        vertical-align: top;\n",
       "    }\n",
       "\n",
       "    .dataframe thead th {\n",
       "        text-align: right;\n",
       "    }\n",
       "</style>\n",
       "<table border=\"1\" class=\"dataframe\">\n",
       "  <thead>\n",
       "    <tr style=\"text-align: right;\">\n",
       "      <th></th>\n",
       "      <th>County</th>\n",
       "      <th>Year</th>\n",
       "      <th>Crime</th>\n",
       "      <th>Arrests</th>\n",
       "      <th>Which</th>\n",
       "      <th>Year group</th>\n",
       "    </tr>\n",
       "  </thead>\n",
       "  <tbody>\n",
       "    <tr>\n",
       "      <th>0</th>\n",
       "      <td>Adams</td>\n",
       "      <td>1992</td>\n",
       "      <td>Aggravated Assault</td>\n",
       "      <td>1654</td>\n",
       "      <td>Violent</td>\n",
       "      <td>1992-1994</td>\n",
       "    </tr>\n",
       "    <tr>\n",
       "      <th>1</th>\n",
       "      <td>Adams</td>\n",
       "      <td>1992</td>\n",
       "      <td>Aggravated Assault</td>\n",
       "      <td>510</td>\n",
       "      <td>Violent</td>\n",
       "      <td>1992-1994</td>\n",
       "    </tr>\n",
       "    <tr>\n",
       "      <th>2</th>\n",
       "      <td>Adams</td>\n",
       "      <td>1992</td>\n",
       "      <td>Arson</td>\n",
       "      <td>14</td>\n",
       "      <td>Property</td>\n",
       "      <td>1992-1994</td>\n",
       "    </tr>\n",
       "    <tr>\n",
       "      <th>3</th>\n",
       "      <td>Adams</td>\n",
       "      <td>1992</td>\n",
       "      <td>Arson</td>\n",
       "      <td>50</td>\n",
       "      <td>Property</td>\n",
       "      <td>1992-1994</td>\n",
       "    </tr>\n",
       "    <tr>\n",
       "      <th>4</th>\n",
       "      <td>Adams</td>\n",
       "      <td>1992</td>\n",
       "      <td>Burglary</td>\n",
       "      <td>304</td>\n",
       "      <td>Property</td>\n",
       "      <td>1992-1994</td>\n",
       "    </tr>\n",
       "  </tbody>\n",
       "</table>\n",
       "</div>"
      ],
      "text/plain": [
       "  County  Year               Crime  Arrests     Which Year group\n",
       "0  Adams  1992  Aggravated Assault     1654   Violent  1992-1994\n",
       "1  Adams  1992  Aggravated Assault      510   Violent  1992-1994\n",
       "2  Adams  1992               Arson       14  Property  1992-1994\n",
       "3  Adams  1992               Arson       50  Property  1992-1994\n",
       "4  Adams  1992            Burglary      304  Property  1992-1994"
      ]
     },
     "execution_count": 8,
     "metadata": {},
     "output_type": "execute_result"
    }
   ],
   "source": [
    "reduced_df.head()"
   ]
  },
  {
   "cell_type": "code",
   "execution_count": 9,
   "metadata": {},
   "outputs": [
    {
     "data": {
      "text/plain": [
       "448"
      ]
     },
     "execution_count": 9,
     "metadata": {},
     "output_type": "execute_result"
    }
   ],
   "source": [
    "#county_df = reduced_df.loc[(reduced_df['County']=='Teller') | (reduced_df['County']=='El Paso'),:]\n",
    "\n",
    "county_df = reduced_df.loc[(reduced_df['County']=='El Paso'),:]\n",
    "\n",
    "len(county_df)"
   ]
  },
  {
   "cell_type": "code",
   "execution_count": 10,
   "metadata": {},
   "outputs": [
    {
     "data": {
      "text/plain": [
       "448"
      ]
     },
     "execution_count": 10,
     "metadata": {},
     "output_type": "execute_result"
    }
   ],
   "source": [
    "no_null_crime_df = county_df.dropna(how='any')\n",
    "len(no_null_crime_df)"
   ]
  },
  {
   "cell_type": "code",
   "execution_count": 11,
   "metadata": {},
   "outputs": [
    {
     "name": "stdout",
     "output_type": "stream",
     "text": [
      "2016\n",
      "1992\n"
     ]
    }
   ],
   "source": [
    "print(no_null_crime_df[\"Year\"].max())\n",
    "print(no_null_crime_df[\"Year\"].min())"
   ]
  },
  {
   "cell_type": "code",
   "execution_count": 12,
   "metadata": {},
   "outputs": [
    {
     "data": {
      "text/html": [
       "<div>\n",
       "<style scoped>\n",
       "    .dataframe tbody tr th:only-of-type {\n",
       "        vertical-align: middle;\n",
       "    }\n",
       "\n",
       "    .dataframe tbody tr th {\n",
       "        vertical-align: top;\n",
       "    }\n",
       "\n",
       "    .dataframe thead th {\n",
       "        text-align: right;\n",
       "    }\n",
       "</style>\n",
       "<table border=\"1\" class=\"dataframe\">\n",
       "  <thead>\n",
       "    <tr style=\"text-align: right;\">\n",
       "      <th></th>\n",
       "      <th>County</th>\n",
       "      <th>Year</th>\n",
       "      <th>Crime</th>\n",
       "      <th>Arrests</th>\n",
       "      <th>Which</th>\n",
       "      <th>Year group</th>\n",
       "    </tr>\n",
       "  </thead>\n",
       "  <tbody>\n",
       "    <tr>\n",
       "      <th>27824</th>\n",
       "      <td>El Paso</td>\n",
       "      <td>2016</td>\n",
       "      <td>Forcible Rape</td>\n",
       "      <td>57</td>\n",
       "      <td>Violent</td>\n",
       "      <td>2015-2019</td>\n",
       "    </tr>\n",
       "    <tr>\n",
       "      <th>27825</th>\n",
       "      <td>El Paso</td>\n",
       "      <td>2016</td>\n",
       "      <td>Larceny/Theft</td>\n",
       "      <td>2772</td>\n",
       "      <td>Property</td>\n",
       "      <td>2015-2019</td>\n",
       "    </tr>\n",
       "    <tr>\n",
       "      <th>27826</th>\n",
       "      <td>El Paso</td>\n",
       "      <td>2016</td>\n",
       "      <td>Motor Vehicle Theft</td>\n",
       "      <td>341</td>\n",
       "      <td>Property</td>\n",
       "      <td>2015-2019</td>\n",
       "    </tr>\n",
       "    <tr>\n",
       "      <th>27827</th>\n",
       "      <td>El Paso</td>\n",
       "      <td>2016</td>\n",
       "      <td>Murder/Manslaughter</td>\n",
       "      <td>32</td>\n",
       "      <td>Violent</td>\n",
       "      <td>2015-2019</td>\n",
       "    </tr>\n",
       "    <tr>\n",
       "      <th>27828</th>\n",
       "      <td>El Paso</td>\n",
       "      <td>2016</td>\n",
       "      <td>Robbery</td>\n",
       "      <td>96</td>\n",
       "      <td>Violent</td>\n",
       "      <td>2015-2019</td>\n",
       "    </tr>\n",
       "  </tbody>\n",
       "</table>\n",
       "</div>"
      ],
      "text/plain": [
       "        County  Year                Crime  Arrests     Which Year group\n",
       "27824  El Paso  2016        Forcible Rape       57   Violent  2015-2019\n",
       "27825  El Paso  2016        Larceny/Theft     2772  Property  2015-2019\n",
       "27826  El Paso  2016  Motor Vehicle Theft      341  Property  2015-2019\n",
       "27827  El Paso  2016  Murder/Manslaughter       32   Violent  2015-2019\n",
       "27828  El Paso  2016              Robbery       96   Violent  2015-2019"
      ]
     },
     "execution_count": 12,
     "metadata": {},
     "output_type": "execute_result"
    }
   ],
   "source": [
    "no_null_crime_df.tail()"
   ]
  },
  {
   "cell_type": "code",
   "execution_count": 13,
   "metadata": {},
   "outputs": [
    {
     "data": {
      "text/plain": [
       "Violent     200\n",
       "Property    200\n",
       "Drug         48\n",
       "Name: Which, dtype: int64"
      ]
     },
     "execution_count": 13,
     "metadata": {},
     "output_type": "execute_result"
    }
   ],
   "source": [
    "no_null_crime_df[\"Which\"].value_counts()"
   ]
  },
  {
   "cell_type": "code",
   "execution_count": 14,
   "metadata": {},
   "outputs": [
    {
     "data": {
      "text/plain": [
       "array(['Arson', 'Burglary', 'Larceny/Theft', 'Motor Vehicle Theft'],\n",
       "      dtype=object)"
      ]
     },
     "execution_count": 14,
     "metadata": {},
     "output_type": "execute_result"
    }
   ],
   "source": [
    "property_df = no_null_crime_df.loc[(no_null_crime_df['Which']=='Property'),:]\n",
    "\n",
    "property_df[\"Crime\"].unique()"
   ]
  },
  {
   "cell_type": "code",
   "execution_count": 15,
   "metadata": {},
   "outputs": [
    {
     "name": "stdout",
     "output_type": "stream",
     "text": [
      "\n",
      "      Arrests\n",
      "Year         \n",
      "2012     3127\n",
      "2013     3359\n",
      "2014     4694\n",
      "2015     4511\n",
      "2016     4052\n"
     ]
    }
   ],
   "source": [
    "#print(property_df.head())\n",
    "#print()\n",
    "#print(property_df.tail())\n",
    "#print()\n",
    "#print(property_df[\"Arrests\"].sum())\n",
    "print()\n",
    "property_year = property_df.groupby(['Year']).sum()\n",
    "print(property_year.tail())"
   ]
  },
  {
   "cell_type": "code",
   "execution_count": 16,
   "metadata": {},
   "outputs": [
    {
     "data": {
      "text/plain": [
       "array(['Aggravated Assault', 'Forcible rape', 'Murder/Manslaughter',\n",
       "       'Robbery', 'Forcible Rape'], dtype=object)"
      ]
     },
     "execution_count": 16,
     "metadata": {},
     "output_type": "execute_result"
    }
   ],
   "source": [
    "violent_df = no_null_crime_df.loc[(no_null_crime_df['Which']=='Violent'),:]\n",
    "\n",
    "violent_df[\"Crime\"].unique()"
   ]
  },
  {
   "cell_type": "code",
   "execution_count": 17,
   "metadata": {},
   "outputs": [
    {
     "name": "stdout",
     "output_type": "stream",
     "text": [
      "      Arrests\n",
      "Year         \n",
      "2012      764\n",
      "2013      843\n",
      "2014      941\n",
      "2015      961\n",
      "2016     1136\n"
     ]
    }
   ],
   "source": [
    "#print(violent_df.head())\n",
    "#print()\n",
    "#print(violent_df.tail())\n",
    "#print()\n",
    "#print(violent_df[\"Arrests\"].sum())\n",
    "violent_year = violent_df.groupby(['Year']).sum()\n",
    "print(violent_year.tail())"
   ]
  },
  {
   "cell_type": "code",
   "execution_count": 18,
   "metadata": {},
   "outputs": [
    {
     "data": {
      "text/plain": [
       "array(['Drug Violations'], dtype=object)"
      ]
     },
     "execution_count": 18,
     "metadata": {},
     "output_type": "execute_result"
    }
   ],
   "source": [
    "drug_df = no_null_crime_df.loc[(no_null_crime_df['Which']=='Drug'),:]\n",
    "\n",
    "drug_df[\"Crime\"].unique()"
   ]
  },
  {
   "cell_type": "code",
   "execution_count": 19,
   "metadata": {},
   "outputs": [
    {
     "name": "stdout",
     "output_type": "stream",
     "text": [
      "      Arrests\n",
      "Year         \n",
      "2012     1002\n",
      "2013      907\n",
      "2014     1153\n",
      "2015     1199\n",
      "2016     1264\n"
     ]
    }
   ],
   "source": [
    "#print(drug_df.head())\n",
    "#print()\n",
    "#print(drug_df.tail())\n",
    "#print()\n",
    "#print(drug_df[\"Arrests\"].sum())\n",
    "drug_year = drug_df.groupby(['Year']).sum()\n",
    "print(drug_year.tail())"
   ]
  },
  {
   "cell_type": "code",
   "execution_count": 20,
   "metadata": {},
   "outputs": [
    {
     "data": {
      "text/plain": [
       "Text(0.5, 1.0, 'Property Crimes \\n-------------------------------------\\n Arson, Burglary, Larceny/Theft, Motor Vehicle Theft')"
      ]
     },
     "execution_count": 20,
     "metadata": {},
     "output_type": "execute_result"
    },
    {
     "data": {
      "image/png": "[encoded data removed]",
      "text/plain": [
       "<Figure size 432x288 with 1 Axes>"
      ]
     },
     "metadata": {
      "needs_background": "light"
     },
     "output_type": "display_data"
    }
   ],
   "source": [
    "property_year.plot.bar()\n",
    "plt.title(\"Property Crimes \\n-------------------------------------\\n Arson, Burglary, Larceny/Theft, Motor Vehicle Theft\")"
   ]
  },
  {
   "cell_type": "code",
   "execution_count": 21,
   "metadata": {},
   "outputs": [
    {
     "data": {
      "text/plain": [
       "Text(0.5, 1.0, 'Violent Crimes \\n-------------------------------------------------\\n Aggravated Assault, Forcible Rape, Murder/Manslaughter, Robbery')"
      ]
     },
     "execution_count": 21,
     "metadata": {},
     "output_type": "execute_result"
    },
    {
     "data": {
      "image/png": "[encoded data removed]",
      "text/plain": [
       "<Figure size 432x288 with 1 Axes>"
      ]
     },
     "metadata": {
      "needs_background": "light"
     },
     "output_type": "display_data"
    }
   ],
   "source": [
    "violent_year.plot.bar()\n",
    "plt.title(\"Violent Crimes \\n-------------------------------------------------\\n Aggravated Assault, Forcible Rape, Murder/Manslaughter, Robbery\")"
   ]
  },
  {
   "cell_type": "code",
   "execution_count": 22,
   "metadata": {},
   "outputs": [
    {
     "data": {
      "text/plain": [
       "Text(0.5, 1.0, 'Drug Crimes \\n---------------------\\n Drug Violations')"
      ]
     },
     "execution_count": 22,
     "metadata": {},
     "output_type": "execute_result"
    },
    {
     "data": {
      "image/png": "[encoded data removed]",
      "text/plain": [
       "<Figure size 432x288 with 1 Axes>"
      ]
     },
     "metadata": {
      "needs_background": "light"
     },
     "output_type": "display_data"
    }
   ],
   "source": [
    "drug_year.plot.bar()\n",
    "plt.title(\"Drug Crimes \\n---------------------\\n Drug Violations\")\n"
   ]
  },
  {
   "cell_type": "code",
   "execution_count": null,
   "metadata": {},
   "outputs": [],
   "source": []
  }
 ],
 "metadata": {
  "kernelspec": {
   "display_name": "Python 3",
   "language": "python",
   "name": "python3"
  },
  "language_info": {
   "codemirror_mode": {
    "name": "ipython",
    "version": 3
   },
   "file_extension": ".py",
   "mimetype": "text/x-python",
   "name": "python",
   "nbconvert_exporter": "python",
   "pygments_lexer": "ipython3",
   "version": "3.7.3"
  }
 },
 "nbformat": 4,
 "nbformat_minor": 2
}
