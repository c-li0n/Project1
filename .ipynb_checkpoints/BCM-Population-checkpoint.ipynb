{
 "cells": [
  {
   "cell_type": "code",
   "execution_count": 1,
   "metadata": {},
   "outputs": [
    {
     "data": {
      "text/html": [
       "<div>\n",
       "<style scoped>\n",
       "    .dataframe tbody tr th:only-of-type {\n",
       "        vertical-align: middle;\n",
       "    }\n",
       "\n",
       "    .dataframe tbody tr th {\n",
       "        vertical-align: top;\n",
       "    }\n",
       "\n",
       "    .dataframe thead th {\n",
       "        text-align: right;\n",
       "    }\n",
       "</style>\n",
       "<table border=\"1\" class=\"dataframe\">\n",
       "  <thead>\n",
       "    <tr style=\"text-align: right;\">\n",
       "      <th></th>\n",
       "      <th>Year</th>\n",
       "      <th>Population</th>\n",
       "      <th>Age Group</th>\n",
       "      <th>Year Group</th>\n",
       "    </tr>\n",
       "  </thead>\n",
       "  <tbody>\n",
       "    <tr>\n",
       "      <th>38</th>\n",
       "      <td>1980</td>\n",
       "      <td>2097530</td>\n",
       "      <td>Adult</td>\n",
       "      <td>1980-1984</td>\n",
       "    </tr>\n",
       "    <tr>\n",
       "      <th>0</th>\n",
       "      <td>1980</td>\n",
       "      <td>379611</td>\n",
       "      <td>Juvenile</td>\n",
       "      <td>1980-1984</td>\n",
       "    </tr>\n",
       "    <tr>\n",
       "      <th>39</th>\n",
       "      <td>1981</td>\n",
       "      <td>2159216</td>\n",
       "      <td>Adult</td>\n",
       "      <td>1980-1984</td>\n",
       "    </tr>\n",
       "    <tr>\n",
       "      <th>1</th>\n",
       "      <td>1981</td>\n",
       "      <td>380535</td>\n",
       "      <td>Juvenile</td>\n",
       "      <td>1980-1984</td>\n",
       "    </tr>\n",
       "    <tr>\n",
       "      <th>40</th>\n",
       "      <td>1982</td>\n",
       "      <td>2230324</td>\n",
       "      <td>Adult</td>\n",
       "      <td>1980-1984</td>\n",
       "    </tr>\n",
       "  </tbody>\n",
       "</table>\n",
       "</div>"
      ],
      "text/plain": [
       "    Year  Population Age Group Year Group\n",
       "38  1980     2097530     Adult  1980-1984\n",
       "0   1980      379611  Juvenile  1980-1984\n",
       "39  1981     2159216     Adult  1980-1984\n",
       "1   1981      380535  Juvenile  1980-1984\n",
       "40  1982     2230324     Adult  1980-1984"
      ]
     },
     "execution_count": 1,
     "metadata": {},
     "output_type": "execute_result"
    }
   ],
   "source": [
    "import os\n",
    "import csv\n",
    "import matplotlib.pyplot as plt\n",
    "import pandas as pd\n",
    "import numpy as np\n",
    "import itertools as it\n",
    "\n",
    "#set file path\n",
    "copopulationdata = os.path.join('data', 'Colorado_Population.csv')\n",
    "coarrestdata = os.path.join('data', 'ArrestRates.csv')\n",
    "arrestandpopdata = os.path.join('data', 'crime_data_w_population_and_crime_rate.csv')\n",
    "\n",
    "#pull data from file into lists for population and arrest data\n",
    "allpop = pd.read_csv(copopulationdata)\n",
    "allarrest = pd.read_csv(coarrestdata)\n",
    "allpopandarrest = pd.read_csv(arrestandpopdata)\n",
    "# allpop.describe()\n",
    "# allarrest\n",
    "allpop.sort_values(by=['Year','Age Group'], inplace=True)\n",
    "allpop.head()\n"
   ]
  },
  {
   "cell_type": "code",
   "execution_count": 2,
   "metadata": {},
   "outputs": [
    {
     "data": {
      "text/html": [
       "<div>\n",
       "<style scoped>\n",
       "    .dataframe tbody tr th:only-of-type {\n",
       "        vertical-align: middle;\n",
       "    }\n",
       "\n",
       "    .dataframe tbody tr th {\n",
       "        vertical-align: top;\n",
       "    }\n",
       "\n",
       "    .dataframe thead th {\n",
       "        text-align: right;\n",
       "    }\n",
       "</style>\n",
       "<table border=\"1\" class=\"dataframe\">\n",
       "  <thead>\n",
       "    <tr style=\"text-align: right;\">\n",
       "      <th></th>\n",
       "      <th>Population</th>\n",
       "    </tr>\n",
       "    <tr>\n",
       "      <th>Year</th>\n",
       "      <th></th>\n",
       "    </tr>\n",
       "  </thead>\n",
       "  <tbody>\n",
       "    <tr>\n",
       "      <th>1980</th>\n",
       "      <td>2477141</td>\n",
       "    </tr>\n",
       "    <tr>\n",
       "      <th>1981</th>\n",
       "      <td>2539751</td>\n",
       "    </tr>\n",
       "    <tr>\n",
       "      <th>1982</th>\n",
       "      <td>2609504</td>\n",
       "    </tr>\n",
       "    <tr>\n",
       "      <th>1983</th>\n",
       "      <td>2664021</td>\n",
       "    </tr>\n",
       "    <tr>\n",
       "      <th>1984</th>\n",
       "      <td>2690234</td>\n",
       "    </tr>\n",
       "  </tbody>\n",
       "</table>\n",
       "</div>"
      ],
      "text/plain": [
       "      Population\n",
       "Year            \n",
       "1980     2477141\n",
       "1981     2539751\n",
       "1982     2609504\n",
       "1983     2664021\n",
       "1984     2690234"
      ]
     },
     "execution_count": 2,
     "metadata": {},
     "output_type": "execute_result"
    }
   ],
   "source": [
    "# create dataframes to summarize data\n",
    "# sum population by year for each age group\n",
    "sumpop = allpop.groupby('Year')['Population'].sum()\n",
    "sumpop_df = pd.DataFrame(sumpop)\n",
    "\n",
    "# create dataframe for Youth Age Group\n",
    "ypopfilter = allpop['Age Group'].str.contains('Juvenile')\n",
    "youthpop_df = allpop[ypopfilter]\n",
    "youthpop_df.set_index('Year', inplace = True)\n",
    "\n",
    "#create datafram for Adult Age Group\n",
    "apopfilter = allpop['Age Group'].str.contains('Adult')\n",
    "adultpop_df = allpop[apopfilter]\n",
    "adultpop_df.set_index('Year', inplace = True)\n",
    "\n",
    "allpopraw_df = allpop.groupby(['Year','Age Group']).agg({'Population':['sum']})\n",
    "allpopraw_df.columns = ['Population']\n",
    "\n",
    "allpopraw_df = allpopraw_df.reset_index()\n",
    "allpop_df = allpopraw_df.pivot(index = 'Year', columns = 'Age Group', values = 'Population')\n",
    "sumpop_df.head()\n"
   ]
  },
  {
   "cell_type": "code",
   "execution_count": 3,
   "metadata": {},
   "outputs": [
    {
     "data": {
      "image/png": "[encoded data removed]",
      "text/plain": [
       "<Figure size 1080x432 with 1 Axes>"
      ]
     },
     "metadata": {
      "needs_background": "light"
     },
     "output_type": "display_data"
    }
   ],
   "source": [
    "\n",
    "plt.figure(figsize=(15,6))\n",
    "\n",
    "# loop through dataframe to build plot\n",
    "for pop in youthpop_df.columns:\n",
    "    plt.bar(youthpop_df.index, youthpop_df.Population, color = 'royalblue')\n",
    "\n",
    "#Format the plot\n",
    "plt.suptitle('Youth Population by Year',size = 16)\n",
    "plt.xlabel('Year',size = 14)\n",
    "plt.ylabel('Population',size = 14)\n",
    "plt.grid()\n",
    "\n",
    "plt.savefig('COYouthPop')\n",
    "plt.show()"
   ]
  },
  {
   "cell_type": "code",
   "execution_count": 4,
   "metadata": {},
   "outputs": [
    {
     "data": {
      "image/png": "[encoded data removed]",
      "text/plain": [
       "<Figure size 1080x432 with 1 Axes>"
      ]
     },
     "metadata": {
      "needs_background": "light"
     },
     "output_type": "display_data"
    }
   ],
   "source": [
    "plt.figure(figsize=(15,6))\n",
    "\n",
    "# loop through dataframe to build plot\n",
    "for pop in adultpop_df.columns:\n",
    "    plt.bar(adultpop_df.index, adultpop_df.Population, color = 'tomato')\n",
    "\n",
    "#Format the plot\n",
    "plt.suptitle('Adult Population by Year',size = 16)\n",
    "plt.xlabel('Year',size = 14)\n",
    "plt.ylabel('Population',size = 14)\n",
    "plt.grid()\n",
    "\n",
    "plt.savefig('COAdultPop')\n",
    "plt.show()"
   ]
  },
  {
   "cell_type": "code",
   "execution_count": 5,
   "metadata": {},
   "outputs": [
    {
     "data": {
      "image/png": "[encoded data removed]",
      "text/plain": [
       "<Figure size 1080x432 with 1 Axes>"
      ]
     },
     "metadata": {
      "needs_background": "light"
     },
     "output_type": "display_data"
    }
   ],
   "source": [
    "#change the size of the plot for better display\n",
    "plt.figure(figsize=(15,6))\n",
    "\n",
    "# Years Population Age Group Group Year\n",
    "\n",
    "# loop through dataframe to build plot\n",
    "for year in sumpop_df.columns:\n",
    "    plt.bar(sumpop_df.index, sumpop_df.Population, color = 'darkviolet')\n",
    "\n",
    "#Format the plot\n",
    "plt.suptitle('Colorado Population by Year',size = 16)\n",
    "plt.xlabel('Year',size = 14)\n",
    "plt.ylabel('Population',size = 14)\n",
    "plt.grid()\n",
    "\n",
    "#plt.legend(loc = \"lower left\", labelspacing = 1, fontsize=12)\n",
    "\n",
    "# Save the Figure\n",
    "#plt.savefig('pymaceuticals_BCM_plot3')\n",
    "\n",
    "plt.savefig('COSumPop')\n",
    "plt.show()"
   ]
  },
  {
   "cell_type": "code",
   "execution_count": 6,
   "metadata": {},
   "outputs": [
    {
     "data": {
      "image/png": "[encoded data removed]",
      "text/plain": [
       "<Figure size 1080x432 with 1 Axes>"
      ]
     },
     "metadata": {
      "needs_background": "light"
     },
     "output_type": "display_data"
    }
   ],
   "source": [
    "allpop_df.plot.bar(stacked = True, figsize = (15,6), legend = False)\n",
    "plt.legend(loc = \"upper left\", labelspacing = 1, fontsize=16)\n",
    "plt.xlabel('Year',size = 14)\n",
    "plt.suptitle('CO Population - Age Group by Year',size = 16)\n",
    "plt.savefig('COSumPopStacked')\n",
    "plt.show()"
   ]
  },
  {
   "cell_type": "code",
   "execution_count": 43,
   "metadata": {},
   "outputs": [
    {
     "data": {
      "text/html": [
       "<div>\n",
       "<style scoped>\n",
       "    .dataframe tbody tr th:only-of-type {\n",
       "        vertical-align: middle;\n",
       "    }\n",
       "\n",
       "    .dataframe tbody tr th {\n",
       "        vertical-align: top;\n",
       "    }\n",
       "\n",
       "    .dataframe thead th {\n",
       "        text-align: right;\n",
       "    }\n",
       "</style>\n",
       "<table border=\"1\" class=\"dataframe\">\n",
       "  <thead>\n",
       "    <tr style=\"text-align: right;\">\n",
       "      <th></th>\n",
       "      <th>% Change</th>\n",
       "    </tr>\n",
       "  </thead>\n",
       "  <tbody>\n",
       "    <tr>\n",
       "      <th>Population</th>\n",
       "      <td>11</td>\n",
       "    </tr>\n",
       "  </tbody>\n",
       "</table>\n",
       "</div>"
      ],
      "text/plain": [
       "            % Change\n",
       "Population        11"
      ]
     },
     "execution_count": 43,
     "metadata": {},
     "output_type": "execute_result"
    }
   ],
   "source": [
    "# Calculate the percent change over time\n",
    "# create dataframe with persent change: end size - start size / start size * 100\n",
    "# popallchange = (sumpop_df.iloc[37] - sumpop_df.iloc[0]) / sumpop_df.iloc[0] * 100\n",
    "popallchange_df = sumpop_df.pct_change()\n",
    "popallchange_df.columns = ['% Change']\n",
    "popallchange_df['% Change'] = popallchange_df['% Change'].map('{:.2f}%'.format)\n",
    "\n",
    "\n",
    "\n",
    "# Calculate the percent change prior 7 years\n",
    "# create dataframe with persent change: end size - start size / start size * 100\n",
    "popprior7 = (sumpop_df.iloc[30] - sumpop_df.iloc[24]) / sumpop_df.iloc[24] * 100\n",
    "popprior7_df = pd.DataFrame(popprior7)\n",
    "popprior7_df.columns = ['Prior % Change']\n",
    "popprior7_df['Prior % Change'] = popprior7_df['Prior % Change'].astype(int)\n",
    "# Calculate the percent change post 7 years\n",
    "# create dataframe with persent change: end size - start size / start size * 100\n",
    "poppost7 = (sumpop_df.iloc[37] - sumpop_df.iloc[31]) / sumpop_df.iloc[31] * 100\n",
    "poppost7_df = pd.DataFrame(poppost7)\n",
    "poppost7_df.columns = ['Post % Change']\n",
    "poppost7_df['Post % Change'] = poppost7_df['Post % Change'].astype(int)\n",
    "poppost7_df.head()\n",
    "\n",
    "#popprior7_df.head()\n"
   ]
  },
  {
   "cell_type": "code",
   "execution_count": 44,
   "metadata": {},
   "outputs": [
    {
     "data": {
      "text/html": [
       "<div>\n",
       "<style scoped>\n",
       "    .dataframe tbody tr th:only-of-type {\n",
       "        vertical-align: middle;\n",
       "    }\n",
       "\n",
       "    .dataframe tbody tr th {\n",
       "        vertical-align: top;\n",
       "    }\n",
       "\n",
       "    .dataframe thead th {\n",
       "        text-align: right;\n",
       "    }\n",
       "</style>\n",
       "<table border=\"1\" class=\"dataframe\">\n",
       "  <thead>\n",
       "    <tr style=\"text-align: right;\">\n",
       "      <th></th>\n",
       "      <th>% Change</th>\n",
       "    </tr>\n",
       "    <tr>\n",
       "      <th>Year</th>\n",
       "      <th></th>\n",
       "    </tr>\n",
       "  </thead>\n",
       "  <tbody>\n",
       "    <tr>\n",
       "      <th>1980</th>\n",
       "      <td>nan%</td>\n",
       "    </tr>\n",
       "    <tr>\n",
       "      <th>1981</th>\n",
       "      <td>0.03%</td>\n",
       "    </tr>\n",
       "    <tr>\n",
       "      <th>1982</th>\n",
       "      <td>0.03%</td>\n",
       "    </tr>\n",
       "    <tr>\n",
       "      <th>1983</th>\n",
       "      <td>0.02%</td>\n",
       "    </tr>\n",
       "    <tr>\n",
       "      <th>1984</th>\n",
       "      <td>0.01%</td>\n",
       "    </tr>\n",
       "  </tbody>\n",
       "</table>\n",
       "</div>"
      ],
      "text/plain": [
       "     % Change\n",
       "Year         \n",
       "1980     nan%\n",
       "1981    0.03%\n",
       "1982    0.03%\n",
       "1983    0.02%\n",
       "1984    0.01%"
      ]
     },
     "execution_count": 44,
     "metadata": {},
     "output_type": "execute_result"
    }
   ],
   "source": [
    "popallchange_df.head()"
   ]
  },
  {
   "cell_type": "code",
   "execution_count": 56,
   "metadata": {},
   "outputs": [
    {
     "data": {
      "image/png": "[encoded data removed]",
      "text/plain": [
       "<Figure size 432x288 with 1 Axes>"
      ]
     },
     "metadata": {
      "needs_background": "light"
     },
     "output_type": "display_data"
    }
   ],
   "source": [
    "# gather data for bar chart\n",
    "\n",
    "# fig, compare = plt.subplots()\n",
    "ax = popprior7_df.plot(kind='bar')\n",
    "poppost7_df.plot(ax = ax)\n",
    "# create axes variables\n",
    "\n",
    "# compare.bar(popprior7_df.iloc[0], popprior7_df.iloc[1], color = 'royalblue',width=width, align=\"edge\")\n",
    "# compare.bar(poppost7_df.iloc[0], poppost7_df.iloc[1], color = 'tomato',width=width, align=\"edge\")\n",
    "\n",
    "# Orient widths. Add labels, tick marks, etc. \n",
    "# compare.set_title(\"Comparison of Prior and Post 7 Years\", fontsize = 16)\n",
    "# compare.set_ylabel(\"% Change\", fontsize = 14)\n",
    "# compare.grid()\n",
    "#summary.set_yticks([-25, -20, -10, 0, 10, 20, 30, 40, 50, 60])\n",
    "#summary.set_ylim(-25, 70)\n",
    "#summary.tick_params(axis = x, which = 'both', direction = 'inout')\n",
    "#compare.set_xticklabels(x, ha='left', fontsize = 14)\n",
    "\n",
    "\n",
    "# plt.figure(figsize=(15,6))\n",
    "# for frame in [popprior7_df, poppost7_df]:\n",
    "#     plt.plot(frame.index, frame['% Change'])\n",
    "\n",
    "# #plt.legend(loc = \"upper left\", labelspacing = 1, fontsize=16)\n",
    "# plt.xlabel('Prior and Post 7 Years',size = 14)\n",
    "# plt.suptitle('Comparison of Prior and Post 7 Years',size = 16)\n",
    "plt.savefig('PriorPost7')\n",
    "plt.show()"
   ]
  },
  {
   "cell_type": "code",
   "execution_count": null,
   "metadata": {},
   "outputs": [],
   "source": []
  }
 ],
 "metadata": {
  "kernelspec": {
   "display_name": "Python 3",
   "language": "python",
   "name": "python3"
  },
  "language_info": {
   "codemirror_mode": {
    "name": "ipython",
    "version": 3
   },
   "file_extension": ".py",
   "mimetype": "text/x-python",
   "name": "python",
   "nbconvert_exporter": "python",
   "pygments_lexer": "ipython3",
   "version": "3.7.3"
  }
 },
 "nbformat": 4,
 "nbformat_minor": 2
}
